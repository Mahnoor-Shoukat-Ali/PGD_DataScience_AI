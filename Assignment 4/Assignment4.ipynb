{
 "cells": [
  {
   "cell_type": "markdown",
   "id": "dbeb14e1",
   "metadata": {},
   "source": [
    "---\n",
    "\n",
    "## Advanced Regular Expression Assignments\n",
    "\n",
    "### Assignment 1: Extracting Phone Numbers\n",
    "\n",
    "**Raw Text:** \n",
    "Extract all valid Pakistani phone numbers from a given text.\n",
    "\n",
    "**Example:**\n",
    "```\n",
    "Text: Please contact me at 0301-1234567 or 042-35678901 for further details.\n",
    "```\n",
    "\n"
   ]
  },
  {
   "cell_type": "code",
   "execution_count": 17,
   "id": "b830b03e",
   "metadata": {},
   "outputs": [
    {
     "name": "stdout",
     "output_type": "stream",
     "text": [
      "['0301-1234567', '042-35678901', '074 12345567', '0302-4567893', '021-12546986']\n"
     ]
    }
   ],
   "source": [
    "import re\n",
    "\n",
    "text = \"\"\"\n",
    "Please contact me at 0301-1234567 or 042-35678901 or 074 12345567 or 0302-4567893 or 021-12546986 \n",
    "or 815-562413 for further details.\n",
    "\"\"\"\n",
    "\n",
    "pattern = r\"\\b(\\d{3,4}[ -]?\\d{7,8})\\b\"\n",
    "phone_num = re.findall(pattern, text, re.MULTILINE)\n",
    "print(phone_num)\n"
   ]
  },
  {
   "cell_type": "markdown",
   "id": "dd34fb2f",
   "metadata": {},
   "source": [
    "### Assignment 2: Validating Email Addresses\n",
    "\n",
    "**Raw Text:** \n",
    "Validate email addresses according to Pakistani domain extensions (.pk).\n",
    "\n",
    "**Example:**\n",
    "```\n",
    "Text: Contact us at info@example.com or support@domain.pk for assistance.\n",
    "```\n",
    "\n"
   ]
  },
  {
   "cell_type": "code",
   "execution_count": 44,
   "id": "64cf6883",
   "metadata": {},
   "outputs": [
    {
     "data": {
      "text/plain": [
       "['info123@example.pk',\n",
       " 'support@domain.pk',\n",
       " 'contact@agpr.gov.pk',\n",
       " 'pbs@pbs.gov.pk',\n",
       " 'abcd12@domain.pk']"
      ]
     },
     "execution_count": 44,
     "metadata": {},
     "output_type": "execute_result"
    }
   ],
   "source": [
    "text = \"\"\"\n",
    "info123@example.pk\n",
    "support@domain.pk\n",
    "pbs@pbs.com\n",
    "contact@agpr.gov.pk\n",
    "pbs@pbs.gov.pk\n",
    "abc@123.com\n",
    "abcd12@domain.pk\n",
    "\"\"\"\n",
    "pattern = r\"\\b([\\w\\d.-]+@[\\w\\d.-]+.pk)\"\n",
    "email = re.findall(pattern, text, re.M)\n",
    "email"
   ]
  },
  {
   "cell_type": "markdown",
   "id": "0bd2f6f3",
   "metadata": {},
   "source": [
    "### Assignment 3: Extracting CNIC Numbers\n",
    "\n",
    "**Raw Text:** \n",
    "Extract all Pakistani CNIC (Computerized National Identity Card) numbers from a given text.\n",
    "\n",
    "**Example:**\n",
    "```\n",
    "Text: My CNIC is 12345-6789012-3 and another one is 34567-8901234-5.\n",
    "```\n"
   ]
  },
  {
   "cell_type": "code",
   "execution_count": 52,
   "id": "b825834e",
   "metadata": {},
   "outputs": [
    {
     "data": {
      "text/plain": [
       "['12345-6789012-3', '34567-8901234-5']"
      ]
     },
     "execution_count": 52,
     "metadata": {},
     "output_type": "execute_result"
    }
   ],
   "source": [
    "text = \"\"\"\n",
    "My CNIC is 12345-6789012-3 and another one is 34567-8901234-5\n",
    "\"\"\"\n",
    "pattern = r\"\\d{5}-\\d{7}-\\d\"\n",
    "cnic = re.findall(pattern, text)\n",
    "cnic"
   ]
  },
  {
   "cell_type": "markdown",
   "id": "f21a0a2f",
   "metadata": {},
   "source": [
    "\n",
    "### Assignment 4: Identifying Urdu Words\n",
    "\n",
    "**Raw Text:** \n",
    "Identify and extract Urdu words from a mixed English-Urdu text.\n",
    "\n",
    "**Example:**\n",
    "```\n",
    "Text: یہ sentence میں کچھ English words بھی ہیں۔\n",
    "```\n",
    "\n"
   ]
  },
  {
   "cell_type": "code",
   "execution_count": 57,
   "id": "b4263cfb",
   "metadata": {},
   "outputs": [
    {
     "data": {
      "text/plain": [
       "['یہ', 'میں', 'کچھ', 'بھی', 'ہیں']"
      ]
     },
     "execution_count": 57,
     "metadata": {},
     "output_type": "execute_result"
    }
   ],
   "source": [
    "text = \"یہ sentence میں کچھ English words بھی ہیں۔\"\n",
    "\n",
    "pattern = r\"\\b([^\\s\\-a-zA-Z]+\\b)\"\n",
    "# pattern = r\"\\b[\\u0600-\\u06FF]+\\b\" #Unicode characters for the Urdu script\n",
    "urdu = re.findall(pattern, text)\n",
    "urdu"
   ]
  },
  {
   "cell_type": "markdown",
   "id": "421405e8",
   "metadata": {},
   "source": [
    "### Assignment 5: Finding Dates\n",
    "\n",
    "**Raw Text:** \n",
    "Find and extract dates in the format DD-MM-YYYY from a given text.\n",
    "\n",
    "**Example:**\n",
    "```\n",
    "Text: The event will take place on 15-08-2023 and 23-09-2023.\n",
    "```\n",
    "\n"
   ]
  },
  {
   "cell_type": "code",
   "execution_count": 59,
   "id": "c2f9d8bf",
   "metadata": {},
   "outputs": [
    {
     "data": {
      "text/plain": [
       "['15-08-2023', '23-09-2023']"
      ]
     },
     "execution_count": 59,
     "metadata": {},
     "output_type": "execute_result"
    }
   ],
   "source": [
    "text = \"\"\"\n",
    "The event will take place on 15-08-2023 and 23-09-2023\"\"\"\n",
    "\n",
    "#both pattern is correct\n",
    "pattern = r\"\\d{1,2}-\\d{1,2}-\\d{4}\"\n",
    "# pattern = r\"\\d{2}-\\d{2}-\\d{4}\"\n",
    "date = re.findall(pattern, text)\n",
    "date"
   ]
  },
  {
   "cell_type": "markdown",
   "id": "6b817815",
   "metadata": {},
   "source": [
    "### Assignment 6: Extracting URLs\n",
    "\n",
    "**Raw Text:** \n",
    "Extract all URLs from a text that belong to Pakistani domains.\n",
    "\n",
    "**Example:**\n",
    "```\n",
    "Text: Visit http://www.example.pk or https://website.com.pk for more information.\n",
    "```\n",
    "\n"
   ]
  },
  {
   "cell_type": "code",
   "execution_count": 86,
   "id": "c2ba10ac",
   "metadata": {},
   "outputs": [
    {
     "data": {
      "text/plain": [
       "['http://www.example.pk', 'https://website.com.pk']"
      ]
     },
     "execution_count": 86,
     "metadata": {},
     "output_type": "execute_result"
    }
   ],
   "source": [
    "text = \"\"\"\n",
    "http://www.example.pk or https://website.com.pk\"\"\"\n",
    "\n",
    "# pattern = r\"\\b([https?://]+[\\w.-]+\\.pk)\\b\"\n",
    "pattern = r\"\\b([https?://]+[\\w]+.[\\w]+.pk)\\b\"\n",
    "url = re.findall(pattern, text)\n",
    "url"
   ]
  },
  {
   "cell_type": "markdown",
   "id": "7ff1dc07",
   "metadata": {},
   "source": [
    "### Assignment 7: Analyzing Currency\n",
    "\n",
    "**Raw Text:** \n",
    "Extract and analyze currency amounts in Pakistani Rupees (PKR) from a given text.\n",
    "\n",
    "**Example:**\n",
    "```\n",
    "Text: The product costs PKR 1500, while the deluxe version is priced at Rs. 2500.\n",
    "```\n",
    "\n"
   ]
  },
  {
   "cell_type": "code",
   "execution_count": 96,
   "id": "28769652",
   "metadata": {},
   "outputs": [
    {
     "data": {
      "text/plain": [
       "['PKR 1500']"
      ]
     },
     "execution_count": 96,
     "metadata": {},
     "output_type": "execute_result"
    }
   ],
   "source": [
    "text = \"\"\"\n",
    "The product costs PKR 1500, while the deluxe version is priced at Rs. 2500\"\"\"\n",
    "\n",
    "pattern = r\"[PKR]+ \\d{4}\"\n",
    "url = re.findall(pattern, text)\n",
    "url"
   ]
  },
  {
   "cell_type": "markdown",
   "id": "651c8b5d",
   "metadata": {},
   "source": [
    "### Assignment 8: Removing Punctuation\n",
    "\n",
    "**Raw Text:** \n",
    "Remove all punctuation marks from a text while preserving Urdu characters.\n",
    "\n",
    "**Example:**\n",
    "```\n",
    "Text: کیا! آپ, یہاں؟\n",
    "```\n",
    "\n"
   ]
  },
  {
   "cell_type": "code",
   "execution_count": 98,
   "id": "96350bf0",
   "metadata": {},
   "outputs": [
    {
     "data": {
      "text/plain": [
       "['کیا', 'آپ', 'یہاں']"
      ]
     },
     "execution_count": 98,
     "metadata": {},
     "output_type": "execute_result"
    }
   ],
   "source": [
    "text = \"\"\"کیا! آپ, یہاں؟\"\"\"\n",
    "\n",
    "pattern = r\"\\b([^!,؟]+)\\b\"\n",
    "punctuation = re.findall(pattern,text)\n",
    "punctuation"
   ]
  },
  {
   "cell_type": "markdown",
   "id": "8cc27684",
   "metadata": {},
   "source": [
    "### Assignment 9: Extracting City Names\n",
    "\n",
    "**Raw Text:** \n",
    "Extract names of Pakistani cities from a given text.\n",
    "\n",
    "**Example:**\n",
    "```\n",
    "Text: Lahore, Karachi, Islamabad, and Peshawar are major cities of Pakistan.\n",
    "```\n"
   ]
  },
  {
   "cell_type": "code",
   "execution_count": 130,
   "id": "a81035ed",
   "metadata": {},
   "outputs": [
    {
     "data": {
      "text/plain": [
       "[('Lahore', 'Karachi', 'Islamabad', 'Peshawar')]"
      ]
     },
     "execution_count": 130,
     "metadata": {},
     "output_type": "execute_result"
    }
   ],
   "source": [
    "text = \"Lahore, Karachi, Islamabad, and Peshawar are major cities of Pakistan.\"\n",
    "\n",
    "# pattern = r\"[\\w]+\"\n",
    "pattern = r\"\\b(?:([\\w]+)\\,\\s([\\w]+)\\,\\s([\\w]+)\\,\\sand\\s([\\w]+))\\b\"\n",
    "city = re.findall(pattern,text)\n",
    "city"
   ]
  },
  {
   "cell_type": "markdown",
   "id": "219b6c4c",
   "metadata": {},
   "source": [
    "\n",
    "### Assignment 10: Analyzing Vehicle Numbers\n",
    "\n",
    "**Raw Text:** \n",
    "Identify and extract Pakistani vehicle registration numbers (e.g., ABC-123) from a text.\n",
    "\n",
    "**Example:**\n",
    "```\n",
    "Text: I saw a car with the number plate LEA-567 near the market.\n",
    "```\n",
    "\n"
   ]
  },
  {
   "cell_type": "code",
   "execution_count": 140,
   "id": "33e1e5ba",
   "metadata": {},
   "outputs": [
    {
     "data": {
      "text/plain": [
       "['LEA-567']"
      ]
     },
     "execution_count": 140,
     "metadata": {},
     "output_type": "execute_result"
    }
   ],
   "source": [
    "text = \"I saw a car with the number plate LEA-567 near the market\"\n",
    "\n",
    "#BOTH IS CORRECT\n",
    "# pattern = r\"\\b([A-Z]{3}-\\d{3})\\b\"\n",
    "pattern = r\"\\b([\\w]{3}-\\d{3})\\b\"\n",
    "vehicle = re.findall(pattern,text)\n",
    "vehicle"
   ]
  }
 ],
 "metadata": {
  "kernelspec": {
   "display_name": "Python 3 (ipykernel)",
   "language": "python",
   "name": "python3"
  },
  "language_info": {
   "codemirror_mode": {
    "name": "ipython",
    "version": 3
   },
   "file_extension": ".py",
   "mimetype": "text/x-python",
   "name": "python",
   "nbconvert_exporter": "python",
   "pygments_lexer": "ipython3",
   "version": "3.11.3"
  }
 },
 "nbformat": 4,
 "nbformat_minor": 5
}
