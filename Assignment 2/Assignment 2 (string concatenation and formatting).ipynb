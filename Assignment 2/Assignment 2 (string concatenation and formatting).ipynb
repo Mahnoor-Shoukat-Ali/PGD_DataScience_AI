{
 "cells": [
  {
   "cell_type": "markdown",
   "id": "66d0773a",
   "metadata": {},
   "source": [
    "## Assignment 2 String concatenation"
   ]
  },
  {
   "cell_type": "markdown",
   "id": "c6ca050c",
   "metadata": {},
   "source": [
    "# Part 1: String Concatenation and Formatting"
   ]
  },
  {
   "cell_type": "code",
   "execution_count": 30,
   "id": "8df66be2",
   "metadata": {},
   "outputs": [
    {
     "name": "stdout",
     "output_type": "stream",
     "text": [
      "My name is Mahnoor\n",
      "I am 25 years old, \n",
      "And I live in Pakistan\n"
     ]
    }
   ],
   "source": [
    "name = \"Mahnoor\"\n",
    "age = 25\n",
    "country = \"Pakistan\"\n",
    "result= \"My name is \" + name + \"\\nI am \" + str(age)+ \" years old \\nAnd I live in \" + country\n",
    "print(result)"
   ]
  },
  {
   "cell_type": "markdown",
   "id": "9789da5f",
   "metadata": {},
   "source": [
    "# Part 2: String Formatting using `.format()`"
   ]
  },
  {
   "cell_type": "code",
   "execution_count": 35,
   "id": "5a314abb",
   "metadata": {},
   "outputs": [
    {
     "data": {
      "text/plain": [
       "'I bought 5 laptop at 60000 each, for a total of 300000 Rs.'"
      ]
     },
     "execution_count": 35,
     "metadata": {},
     "output_type": "execute_result"
    }
   ],
   "source": [
    "item = \"laptop\"\n",
    "price= 60000\n",
    "quantity = 5\n",
    "total_cost = price * quantity\n",
    "\n",
    "result = \"\"\"I bought {} {} at {} each, for a total of {} Rs.\"\"\".format(quantity,item,price,total_cost)\n",
    "result\n"
   ]
  },
  {
   "cell_type": "markdown",
   "id": "c282615f",
   "metadata": {},
   "source": [
    "# Part 3: String Interpolation using `f''"
   ]
  },
  {
   "cell_type": "code",
   "execution_count": 37,
   "id": "9b39a8ea",
   "metadata": {},
   "outputs": [
    {
     "data": {
      "text/plain": [
       "'The temperature in Karachi is 32°C.'"
      ]
     },
     "execution_count": 37,
     "metadata": {},
     "output_type": "execute_result"
    }
   ],
   "source": [
    "city = \"Karachi\"\n",
    "temperature = 32\n",
    "result = f\"\"\"The temperature in {city} is {temperature}°C.\"\"\"\n",
    "result"
   ]
  },
  {
   "cell_type": "markdown",
   "id": "cab80ad4",
   "metadata": {},
   "source": [
    "# Part 4: String Formatting using `%()`"
   ]
  },
  {
   "cell_type": "code",
   "execution_count": 46,
   "id": "1ba8cb59",
   "metadata": {},
   "outputs": [
    {
     "name": "stdout",
     "output_type": "stream",
     "text": [
      "My name is Mahnoor Shoukat\n",
      "I am 25 years old.\n"
     ]
    }
   ],
   "source": [
    "first_name = \"Mahnoor\"\n",
    "last_name = \" Shoukat\"\n",
    "birth_year = 1998\n",
    "age= 2023-birth_year\n",
    "result = \"My name is \" +  first_name + last_name + \"\\nI am \" + str(age) + \" years old.\"\n",
    "print(result)\n"
   ]
  },
  {
   "cell_type": "markdown",
   "id": "3e09dd7a",
   "metadata": {},
   "source": [
    "#  Part 5: Combining Formatting Methods**"
   ]
  },
  {
   "cell_type": "code",
   "execution_count": 53,
   "id": "8f6ac42d",
   "metadata": {},
   "outputs": [
    {
     "name": "stdout",
     "output_type": "stream",
     "text": [
      "The original price of Mobile is 40000 and the discount is 20% \n",
      "So the discounted price will be 32000.0.\n",
      "\n"
     ]
    }
   ],
   "source": [
    "product = \"Mobile\"\n",
    "discount = 20\n",
    "original_price = 40000\n",
    "discounted_price = original_price * (1 - discount / 100)\n",
    "#print(discounted_price)\n",
    "result = f\"\"\"The original price of {product} is {original_price} and the discount is {discount}% \n",
    "So the discounted price will be {discounted_price}.\n",
    "\"\"\"\n",
    "print(result)"
   ]
  },
  {
   "cell_type": "code",
   "execution_count": null,
   "id": "8fb6d640",
   "metadata": {},
   "outputs": [],
   "source": []
  }
 ],
 "metadata": {
  "kernelspec": {
   "display_name": "Python 3 (ipykernel)",
   "language": "python",
   "name": "python3"
  },
  "language_info": {
   "codemirror_mode": {
    "name": "ipython",
    "version": 3
   },
   "file_extension": ".py",
   "mimetype": "text/x-python",
   "name": "python",
   "nbconvert_exporter": "python",
   "pygments_lexer": "ipython3",
   "version": "3.11.3"
  }
 },
 "nbformat": 4,
 "nbformat_minor": 5
}
