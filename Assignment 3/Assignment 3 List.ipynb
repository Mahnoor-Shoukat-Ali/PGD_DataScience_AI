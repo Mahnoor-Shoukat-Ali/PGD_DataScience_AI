{
 "cells": [
  {
   "cell_type": "markdown",
   "id": "1d264997",
   "metadata": {},
   "source": [
    "# Question 1: Basic list operations"
   ]
  },
  {
   "cell_type": "markdown",
   "id": "613cd945",
   "metadata": {},
   "source": [
    "a) Create a list named fruits containing the following items: \"apple\", \"banana\", \"orange\", \"grape\", \"kiwi\"."
   ]
  },
  {
   "cell_type": "code",
   "execution_count": 1,
   "id": "4f17a174",
   "metadata": {},
   "outputs": [
    {
     "name": "stdout",
     "output_type": "stream",
     "text": [
      "['apple', 'banana', 'orange', 'grape', 'kiwi']\n"
     ]
    }
   ],
   "source": [
    "fruits = [\"apple\", \"banana\", \"orange\", \"grape\", \"kiwi\"]   \n",
    "print (fruits)"
   ]
  },
  {
   "cell_type": "markdown",
   "id": "86ecd714",
   "metadata": {},
   "source": [
    "b) Add \"pear\" to the end of the list."
   ]
  },
  {
   "cell_type": "code",
   "execution_count": 2,
   "id": "316d939e",
   "metadata": {},
   "outputs": [
    {
     "name": "stdout",
     "output_type": "stream",
     "text": [
      "['apple', 'banana', 'orange', 'grape', 'kiwi', 'pear']\n"
     ]
    }
   ],
   "source": [
    "fruits.append(\"pear\")  \n",
    "print (fruits)"
   ]
  },
  {
   "cell_type": "markdown",
   "id": "043996c8",
   "metadata": {},
   "source": [
    "c) Insert \"mango\" at the second position in the list."
   ]
  },
  {
   "cell_type": "code",
   "execution_count": 3,
   "id": "67086708",
   "metadata": {},
   "outputs": [
    {
     "name": "stdout",
     "output_type": "stream",
     "text": [
      "['apple', 'orange', 'banana', 'orange', 'grape', 'kiwi', 'pear']\n"
     ]
    }
   ],
   "source": [
    "fruits.insert(1, \"orange\")   \n",
    "print (fruits)"
   ]
  },
  {
   "cell_type": "markdown",
   "id": "f8f029be",
   "metadata": {},
   "source": [
    "d) Remove \"orange\" from the list."
   ]
  },
  {
   "cell_type": "code",
   "execution_count": 4,
   "id": "a82628b8",
   "metadata": {},
   "outputs": [
    {
     "name": "stdout",
     "output_type": "stream",
     "text": [
      "['apple', 'banana', 'orange', 'grape', 'kiwi', 'pear']\n"
     ]
    }
   ],
   "source": [
    "fruits.remove(\"orange\")    \n",
    "print (fruits)"
   ]
  },
  {
   "cell_type": "markdown",
   "id": "6c4aee25",
   "metadata": {},
   "source": [
    "# Question 2: Slicing and Indexing"
   ]
  },
  {
   "cell_type": "markdown",
   "id": "7eb6f295",
   "metadata": {},
   "source": [
    "a) Create a list named numbers containing the integers from 0 to 9."
   ]
  },
  {
   "cell_type": "code",
   "execution_count": 5,
   "id": "27660504",
   "metadata": {},
   "outputs": [
    {
     "name": "stdout",
     "output_type": "stream",
     "text": [
      "[0, 1, 2, 3, 4, 5, 6, 7, 8]\n"
     ]
    }
   ],
   "source": [
    "numbers = list(range(0,9))       \n",
    "print (numbers)"
   ]
  },
  {
   "cell_type": "markdown",
   "id": "9ac867a2",
   "metadata": {},
   "source": [
    "b) Print the element at index 3."
   ]
  },
  {
   "cell_type": "code",
   "execution_count": 7,
   "id": "bb8439ba",
   "metadata": {},
   "outputs": [
    {
     "name": "stdout",
     "output_type": "stream",
     "text": [
      "3\n"
     ]
    }
   ],
   "source": [
    "numbers = list(range(0,9))      \n",
    "position = numbers[3]\n",
    "print (position)"
   ]
  },
  {
   "cell_type": "markdown",
   "id": "379ab85b",
   "metadata": {},
   "source": [
    "c) Print a sublist containing the elements from index 2 to 6 (inclusive)."
   ]
  },
  {
   "cell_type": "code",
   "execution_count": 10,
   "id": "00e7f785",
   "metadata": {},
   "outputs": [
    {
     "name": "stdout",
     "output_type": "stream",
     "text": [
      "[2, 3, 4]\n"
     ]
    }
   ],
   "source": [
    "sublist = numbers[2:5]      \n",
    "print (sublist)"
   ]
  },
  {
   "cell_type": "markdown",
   "id": "9a33bb92",
   "metadata": {},
   "source": [
    "d) Print the last three elements using negative indexing."
   ]
  },
  {
   "cell_type": "code",
   "execution_count": 11,
   "id": "cbe76cbd",
   "metadata": {},
   "outputs": [
    {
     "name": "stdout",
     "output_type": "stream",
     "text": [
      "[6, 7, 8]\n"
     ]
    }
   ],
   "source": [
    "numbers = list(range(0,9))          \n",
    "last_three = numbers[-3:]\n",
    "print (last_three)"
   ]
  },
  {
   "cell_type": "markdown",
   "id": "74ef4959",
   "metadata": {},
   "source": [
    "# Question 3: List Comprehension"
   ]
  },
  {
   "cell_type": "markdown",
   "id": "6c3d0eb3",
   "metadata": {},
   "source": [
    "a) Create a list named squares using a list comprehension that contains the squares of numbers from 1 to 10."
   ]
  },
  {
   "cell_type": "code",
   "execution_count": 12,
   "id": "ee5de210",
   "metadata": {},
   "outputs": [
    {
     "name": "stdout",
     "output_type": "stream",
     "text": [
      "[1, 4, 9, 16, 25, 36, 49, 64, 81, 100]\n"
     ]
    }
   ],
   "source": [
    "squares = list(range(1,11))  \n",
    "\n",
    "for i in range(len(squares)):\n",
    "    squares[i] = squares[i] ** 2\n",
    "print (squares)"
   ]
  },
  {
   "cell_type": "markdown",
   "id": "45eb73b5",
   "metadata": {},
   "source": [
    "b) Create a new list named even_squares using a list comprehension that contains the squares of even numbers from the squares list."
   ]
  },
  {
   "cell_type": "code",
   "execution_count": 13,
   "id": "88f6e29a",
   "metadata": {},
   "outputs": [
    {
     "name": "stdout",
     "output_type": "stream",
     "text": [
      "[4, 16, 36, 64, 100]\n"
     ]
    }
   ],
   "source": [
    "even_squares = [x ** 2 for x in range(1,11) if x % 2 == 0]\n",
    "print (even_squares)"
   ]
  },
  {
   "cell_type": "markdown",
   "id": "3c84df45",
   "metadata": {},
   "source": [
    "# Question 4: List Manipulation"
   ]
  },
  {
   "cell_type": "markdown",
   "id": "50932f46",
   "metadata": {},
   "source": [
    "a) Create a list named colors containing the following items: \"red\", \"green\", \"blue\", \"yellow\", \"purple\"."
   ]
  },
  {
   "cell_type": "code",
   "execution_count": 15,
   "id": "b42a7d4d",
   "metadata": {},
   "outputs": [
    {
     "name": "stdout",
     "output_type": "stream",
     "text": [
      "['red', 'green', 'blue', 'yellow', 'purple']\n"
     ]
    }
   ],
   "source": [
    "colors = [\"red\", \"green\", \"blue\", \"yellow\", \"purple\"]\n",
    "print (colors)"
   ]
  },
  {
   "cell_type": "markdown",
   "id": "2c4c8afc",
   "metadata": {},
   "source": [
    "b) Swap the first and last elements of the list."
   ]
  },
  {
   "cell_type": "code",
   "execution_count": 16,
   "id": "b98a180a",
   "metadata": {},
   "outputs": [
    {
     "name": "stdout",
     "output_type": "stream",
     "text": [
      "['purple', 'green', 'blue', 'yellow', 'red']\n"
     ]
    }
   ],
   "source": [
    "colors[0], colors[-1] = colors[-1], colors[0]      \n",
    "print (colors)"
   ]
  },
  {
   "cell_type": "markdown",
   "id": "f43a3bb0",
   "metadata": {},
   "source": [
    "c) Reverse the order of the list."
   ]
  },
  {
   "cell_type": "code",
   "execution_count": 17,
   "id": "d2b422a7",
   "metadata": {},
   "outputs": [
    {
     "name": "stdout",
     "output_type": "stream",
     "text": [
      "['purple', 'yellow', 'blue', 'green', 'red']\n"
     ]
    }
   ],
   "source": [
    "colors = [\"red\", \"green\", \"blue\", \"yellow\", \"purple\"]\n",
    "colors.reverse()      \n",
    "print(colors)"
   ]
  },
  {
   "cell_type": "markdown",
   "id": "29672866",
   "metadata": {},
   "source": [
    "d) Remove the second and third elements from the list."
   ]
  },
  {
   "cell_type": "code",
   "execution_count": 18,
   "id": "b80d8ad5",
   "metadata": {},
   "outputs": [
    {
     "name": "stdout",
     "output_type": "stream",
     "text": [
      "['purple', 'green', 'red']\n"
     ]
    }
   ],
   "source": [
    "colors.remove(\"blue\")\n",
    "colors.remove(\"yellow\")\n",
    "print(colors)"
   ]
  },
  {
   "cell_type": "markdown",
   "id": "ab5b5873",
   "metadata": {},
   "source": [
    "# Question 5: Advanced Slicing"
   ]
  },
  {
   "cell_type": "markdown",
   "id": "5a5859a4",
   "metadata": {},
   "source": [
    "a) Create a list named letters containing the letters from 'a' to 'j'."
   ]
  },
  {
   "cell_type": "code",
   "execution_count": 19,
   "id": "b455f4ab",
   "metadata": {},
   "outputs": [
    {
     "name": "stdout",
     "output_type": "stream",
     "text": [
      "['a', 'b', 'c', 'd', 'e', 'f', 'g', 'h', 'i', 'j']\n"
     ]
    }
   ],
   "source": [
    "letters = [x for x in \"abcdefghij\"]\n",
    "print (letters)"
   ]
  },
  {
   "cell_type": "markdown",
   "id": "a97a484c",
   "metadata": {},
   "source": [
    "b) Using slicing, create a new list first_half containing the first half of the letters list."
   ]
  },
  {
   "cell_type": "code",
   "execution_count": 20,
   "id": "33631ecd",
   "metadata": {},
   "outputs": [
    {
     "name": "stdout",
     "output_type": "stream",
     "text": [
      "['a', 'b', 'c', 'd', 'e', 'f', 'g', 'h', 'i', 'j']\n",
      "['a', 'b', 'c', 'd', 'e']\n"
     ]
    }
   ],
   "source": [
    "letters = [x for x in \"abcdefghij\"]\n",
    "first_half = letters[:len(letters)//2]\n",
    "print(letters)\n",
    "print(first_half)"
   ]
  },
  {
   "cell_type": "markdown",
   "id": "816508ac",
   "metadata": {},
   "source": [
    "c) Using slicing, create a new list last_three containing the last three elements of the letters list."
   ]
  },
  {
   "cell_type": "code",
   "execution_count": 21,
   "id": "0919d3bb",
   "metadata": {},
   "outputs": [
    {
     "name": "stdout",
     "output_type": "stream",
     "text": [
      "['c', 'd', 'e']\n"
     ]
    }
   ],
   "source": [
    "last_three = first_half[-3:]\n",
    "print (last_three)"
   ]
  },
  {
   "cell_type": "markdown",
   "id": "f11991e7",
   "metadata": {},
   "source": [
    "# Question 6: Nested Lists"
   ]
  },
  {
   "cell_type": "markdown",
   "id": "96c8b704",
   "metadata": {},
   "source": [
    "a) Create a nested list named matrix with the following rows:\n",
    "\n",
    "* [1, 2, 3]\n",
    "* [4, 5, 6]\n",
    "* [7, 8, 9]\n"
   ]
  },
  {
   "cell_type": "code",
   "execution_count": 22,
   "id": "2e06777d",
   "metadata": {},
   "outputs": [
    {
     "name": "stdout",
     "output_type": "stream",
     "text": [
      "[[1, 2, 3], [4, 5, 6], [7, 8, 9]]\n"
     ]
    }
   ],
   "source": [
    "matrix = [[1,2,3],[4,5,6],[7,8,9]]  \n",
    "print(matrix)"
   ]
  },
  {
   "cell_type": "markdown",
   "id": "901183c2",
   "metadata": {},
   "source": [
    "b) Print the element in the second row and third column."
   ]
  },
  {
   "cell_type": "code",
   "execution_count": 23,
   "id": "dabdd243",
   "metadata": {},
   "outputs": [
    {
     "name": "stdout",
     "output_type": "stream",
     "text": [
      "6\n"
     ]
    }
   ],
   "source": [
    "matrix = [[1,2,3],[4,5,6],[7,8,9]]     \n",
    "element = (matrix[1][2])   \n",
    "print(element)"
   ]
  },
  {
   "cell_type": "markdown",
   "id": "d8dbc1a3",
   "metadata": {},
   "source": [
    "c) Use nested indexing to change the value at the second row and first column to 0."
   ]
  },
  {
   "cell_type": "code",
   "execution_count": 24,
   "id": "44a29736",
   "metadata": {},
   "outputs": [
    {
     "name": "stdout",
     "output_type": "stream",
     "text": [
      "[[1, 2, 3], [0, 5, 6], [7, 8, 9]]\n"
     ]
    }
   ],
   "source": [
    "matrix = [[1,2,3],[4,5,6],[7,8,9]]     \n",
    "matrix[1][0] = 0   \n",
    "print(matrix)"
   ]
  },
  {
   "cell_type": "code",
   "execution_count": null,
   "id": "3fcfb738",
   "metadata": {},
   "outputs": [],
   "source": []
  }
 ],
 "metadata": {
  "kernelspec": {
   "display_name": "Python 3 (ipykernel)",
   "language": "python",
   "name": "python3"
  },
  "language_info": {
   "codemirror_mode": {
    "name": "ipython",
    "version": 3
   },
   "file_extension": ".py",
   "mimetype": "text/x-python",
   "name": "python",
   "nbconvert_exporter": "python",
   "pygments_lexer": "ipython3",
   "version": "3.11.3"
  }
 },
 "nbformat": 4,
 "nbformat_minor": 5
}
